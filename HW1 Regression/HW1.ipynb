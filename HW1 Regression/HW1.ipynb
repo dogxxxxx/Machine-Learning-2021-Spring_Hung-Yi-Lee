{
 "cells": [
  {
   "cell_type": "markdown",
   "metadata": {},
   "source": [
    "# **Homework 1: COVID-19 Cases Prediction (Regression)**"
   ]
  },
  {
   "cell_type": "markdown",
   "metadata": {},
   "source": [
    "Author: Heng-Jui Chang\n",
    "\n",
    "Slides: https://github.com/ga642381/ML2021-Spring/blob/main/HW01/HW01.pdf  \n",
    "Videos (Mandarin): https://cool.ntu.edu.tw/courses/4793/modules/items/172854  \n",
    "https://cool.ntu.edu.tw/courses/4793/modules/items/172853  \n",
    "Video (English): https://cool.ntu.edu.tw/courses/4793/modules/items/176529\n",
    "\n",
    "\n",
    "Objectives:\n",
    "* Solve a regression problem with deep neural networks (DNN).\n",
    "* Understand basic DNN training tips.\n",
    "* Get familiar with PyTorch.\n",
    "\n",
    "If any questions, please contact the TAs via TA hours, NTU COOL, or email.\n"
   ]
  },
  {
   "cell_type": "markdown",
   "metadata": {},
   "source": [
    "# **Download Data**\n",
    "\n",
    "\n",
    "If the Google drive links are dead, you can download data from [kaggle](https://www.kaggle.com/c/ml2021spring-hw1/data), and upload data manually to the workspace."
   ]
  },
  {
   "cell_type": "code",
   "execution_count": 12,
   "metadata": {},
   "outputs": [],
   "source": [
    "tr_path = 'data/covid.train.csv'\n",
    "tt_path = 'data/covid.test.csv'"
   ]
  },
  {
   "cell_type": "markdown",
   "metadata": {},
   "source": [
    "# **Import Some Packages**"
   ]
  },
  {
   "cell_type": "code",
   "execution_count": 13,
   "metadata": {},
   "outputs": [],
   "source": [
    "# PyTorch\n",
    "import torch\n",
    "import torch.nn as nn\n",
    "from torch.utils.data import Dataset, DataLoader\n",
    "\n",
    "# For data preprocess\n",
    "import pandas as pd\n",
    "import numpy as np\n",
    "import csv\n",
    "import os\n",
    "\n",
    "#sklearn\n",
    "import sklearn\n",
    "from sklearn.feature_selection import SelectKBest, f_regression\n",
    "from sklearn import preprocessing\n",
    "\n",
    "# For plotting\n",
    "import matplotlib.pyplot as plt\n",
    "from matplotlib.pyplot import figure\n",
    "\n",
    "myseed = 42069  # set a random seed for reproducibility\n",
    "torch.backends.cudnn.deterministic = True\n",
    "torch.backends.cudnn.benchmark = False\n",
    "np.random.seed(myseed)\n",
    "torch.manual_seed(myseed)\n",
    "if torch.cuda.is_available():\n",
    "    torch.cuda.manual_seed_all(myseed)"
   ]
  },
  {
   "cell_type": "markdown",
   "metadata": {},
   "source": [
    "# **Some Utilities**\n",
    "\n",
    "You do not need to modify this part."
   ]
  },
  {
   "cell_type": "code",
   "execution_count": 14,
   "metadata": {},
   "outputs": [],
   "source": [
    "def get_device():\n",
    "    ''' Get device (if GPU is available, use GPU) '''\n",
    "    return 'cuda' if torch.cuda.is_available() else 'cpu'\n",
    "\n",
    "def plot_learning_curve(loss_record, title=''):\n",
    "    ''' Plot learning curve of your DNN (train & dev loss) '''\n",
    "    total_steps = len(loss_record['train'])\n",
    "    x_1 = range(total_steps)\n",
    "    x_2 = x_1[::len(loss_record['train']) // len(loss_record['dev'])]\n",
    "    figure(figsize=(6, 4))\n",
    "    plt.plot(x_1, loss_record['train'], c='tab:red', label='train')\n",
    "    plt.plot(x_2, loss_record['dev'], c='tab:cyan', label='dev')\n",
    "    plt.ylim(0.0, 5.)\n",
    "    plt.xlabel('Training steps')\n",
    "    plt.ylabel('MSE loss')\n",
    "    plt.title('Learning curve of {}'.format(title))\n",
    "    plt.legend()\n",
    "    plt.show()\n",
    "\n",
    "\n",
    "def plot_pred(dv_set, model, device, lim=35., preds=None, targets=None):\n",
    "    ''' Plot prediction of your DNN '''\n",
    "    if preds is None or targets is None:\n",
    "        model.eval()\n",
    "        preds, targets = [], []\n",
    "        for x, y in dv_set:\n",
    "            x, y = x.to(device), y.to(device)\n",
    "            with torch.no_grad():\n",
    "                pred = model(x)\n",
    "                preds.append(pred.detach().cpu())\n",
    "                targets.append(y.detach().cpu())\n",
    "        preds = torch.cat(preds, dim=0).numpy()\n",
    "        targets = torch.cat(targets, dim=0).numpy()\n",
    "\n",
    "    figure(figsize=(5, 5))\n",
    "    plt.scatter(targets, preds, c='r', alpha=0.5)\n",
    "    plt.plot([-0.2, lim], [-0.2, lim], c='b')\n",
    "    plt.xlim(-0.2, lim)\n",
    "    plt.ylim(-0.2, lim)\n",
    "    plt.xlabel('ground truth value')\n",
    "    plt.ylabel('predicted value')\n",
    "    plt.title('Ground Truth v.s. Prediction')\n",
    "    plt.show()"
   ]
  },
  {
   "cell_type": "markdown",
   "metadata": {},
   "source": [
    "# **Feature Selection**"
   ]
  },
  {
   "cell_type": "code",
   "execution_count": 15,
   "metadata": {},
   "outputs": [],
   "source": [
    "def select_features(topk):\n",
    "    data = pd.read_csv(\"data/covid.train.csv\")\n",
    "    x = data[data.columns[1:-1]]\n",
    "    y = data[data.columns[-1]]\n",
    "\n",
    "    best_features = SelectKBest(score_func=f_regression)\n",
    "    fit = best_features.fit(x, y)\n",
    "    score = pd.DataFrame({'col': data.columns[1:-1], 'score': fit.scores_})\n",
    "    good_features = list(score.nlargest(topk, columns='score').index)\n",
    "    return good_features"
   ]
  },
  {
   "cell_type": "markdown",
   "metadata": {},
   "source": [
    "# **Preprocess**\n",
    "\n",
    "We have three kinds of datasets:\n",
    "* `train`: for training\n",
    "* `dev`: for validation\n",
    "* `test`: for testing (w/o target value)"
   ]
  },
  {
   "cell_type": "markdown",
   "metadata": {},
   "source": [
    "## **Dataset**\n",
    "\n",
    "The `COVID19Dataset` below does:\n",
    "* read `.csv` files\n",
    "* extract features\n",
    "* split `covid.train.csv` into train/dev sets\n",
    "* normalize features\n",
    "\n",
    "Finishing `TODO` below might make you pass medium baseline."
   ]
  },
  {
   "cell_type": "code",
   "execution_count": 16,
   "metadata": {},
   "outputs": [],
   "source": [
    "class COVID19Dataset(Dataset):\n",
    "    ''' Dataset for loading and preprocessing the COVID19 dataset '''\n",
    "    def __init__(self,\n",
    "                 path,\n",
    "                 mode='train',\n",
    "                 selected_features=[]):\n",
    "        self.mode = mode\n",
    "\n",
    "        # Read data into numpy arrays\n",
    "        with open(path, 'r') as fp:\n",
    "            data = list(csv.reader(fp))\n",
    "            data = np.array(data[1:])[:, 1:].astype(float)\n",
    "        \n",
    "        if not selected_features:\n",
    "            feats = list(range(93))\n",
    "        else:\n",
    "            # TODO: Using 40 states & 2 tested_positive features (indices = 57 & 75)\n",
    "            feats = selected_features\n",
    "\n",
    "        if mode == 'test':\n",
    "            # Testing data\n",
    "            # data: 893 x 93 (40 states + day 1 (18) + day 2 (18) + day 3 (17))\n",
    "            data = data[:, feats]\n",
    "            self.data = torch.FloatTensor(data)\n",
    "        else:\n",
    "            # Training data (train/dev sets)\n",
    "            # data: 2700 x 94 (40 states + day 1 (18) + day 2 (18) + day 3 (18))\n",
    "            target = data[:, -1]\n",
    "            data = data[:, feats]\n",
    "            \n",
    "            # Splitting training data into train & dev sets\n",
    "            if mode == 'train':\n",
    "                indices = [i for i in range(len(data)) if i % 10 != 0]\n",
    "            elif mode == 'dev':\n",
    "                indices = [i for i in range(len(data)) if i % 10 == 0]\n",
    "            \n",
    "            # Convert data into PyTorch tensors\n",
    "            self.data = torch.FloatTensor(data[indices])\n",
    "            self.target = torch.FloatTensor(target[indices])\n",
    "\n",
    "        # Normalize features (you may remove this part to see what will happen)\n",
    "        if not selected_features:\n",
    "            self.data[:, 40:] = \\\n",
    "                (self.data[:, 40:] - self.data[:, 40:].mean(dim=0, keepdim=True)) \\\n",
    "                / self.data[:, 40:].std(dim=0, keepdim=True)\n",
    "        else:\n",
    "            self.data[:, :] = \\\n",
    "                (self.data[:, :] - self.data[:, :].mean(dim=0, keepdim=True)) \\\n",
    "                / self.data[:, :].std(dim=0, keepdim=True)\n",
    "\n",
    "        self.dim = self.data.shape[1]\n",
    "\n",
    "        print('Finished reading the {} set of COVID19 Dataset ({} samples found, each dim = {})'\n",
    "              .format(mode, len(self.data), self.dim))\n",
    "\n",
    "    def __getitem__(self, index):\n",
    "        # Returns one sample at a time\n",
    "        if self.mode in ['train', 'dev']:\n",
    "            # For training\n",
    "            return self.data[index], self.target[index]\n",
    "        else:\n",
    "            # For testing (no target)\n",
    "            return self.data[index]\n",
    "\n",
    "    def __len__(self):\n",
    "        # Returns the size of the dataset\n",
    "        return len(self.data)"
   ]
  },
  {
   "cell_type": "markdown",
   "metadata": {},
   "source": [
    "## **DataLoader**\n",
    "\n",
    "A `DataLoader` loads data from a given `Dataset` into batches.\n"
   ]
  },
  {
   "cell_type": "code",
   "execution_count": 17,
   "metadata": {},
   "outputs": [],
   "source": [
    "def prep_dataloader(path, mode, batch_size, n_jobs=0, selected_features=[]):\n",
    "    ''' Generates a dataset, then is put into a dataloader. '''\n",
    "    dataset = COVID19Dataset(path, mode=mode, selected_features=selected_features)  # Construct dataset\n",
    "    dataloader = DataLoader(\n",
    "        dataset, batch_size,\n",
    "        shuffle=(mode == 'train'), drop_last=False,\n",
    "        num_workers=n_jobs, pin_memory=True)                            # Construct dataloader\n",
    "    return dataloader"
   ]
  },
  {
   "cell_type": "markdown",
   "metadata": {},
   "source": [
    "# **Deep Neural Network**\n",
    "\n",
    "`NeuralNet` is an `nn.Module` designed for regression.\n",
    "The DNN consists of 2 fully-connected layers with ReLU activation.\n",
    "This module also included a function `cal_loss` for calculating loss.\n"
   ]
  },
  {
   "cell_type": "code",
   "execution_count": 18,
   "metadata": {},
   "outputs": [],
   "source": [
    "class NeuralNet(nn.Module):\n",
    "    ''' A simple fully-connected deep neural network '''\n",
    "    def __init__(self, input_dim, l1_strength=0, l2_strength=0):\n",
    "        super(NeuralNet, self).__init__()\n",
    "        self.l1_strength = l1_strength\n",
    "        self.l2_strength = l2_strength\n",
    "        # Define your neural network here\n",
    "        # TODO: How to modify this model to achieve better performance?\n",
    "        self.net = nn.Sequential(\n",
    "            nn.Linear(input_dim, 32),\n",
    "            # nn.ReLU(),\n",
    "            # nn.Linear(32, 8),\n",
    "            nn.ReLU(),\n",
    "            nn.Linear(32, 1)\n",
    "        )\n",
    "\n",
    "        # Mean squared error loss\n",
    "        self.criterion = nn.MSELoss(reduction='mean')\n",
    "\n",
    "    def forward(self, x):\n",
    "        ''' Given input of size (batch_size x input_dim), compute output of the network '''\n",
    "        return self.net(x).squeeze(1)\n",
    "\n",
    "    def cal_loss(self, pred, target):\n",
    "        ''' Calculate loss '''\n",
    "        # TODO: you may implement L1/L2 regularization here\n",
    "        loss = self.criterion(pred, target)\n",
    "        if self.l1_strength > 0:\n",
    "            l1_loss = sum(param.abs().sum() for param in self.net.parameters())\n",
    "            loss += self.l1_strength * l1_loss\n",
    "        if self.l2_strength > 0:\n",
    "            l2_loss = sum(param.pow(2).sum() for param in self.net.parameters())\n",
    "            loss += self.l2_strength * l2_loss\n",
    "        return loss"
   ]
  },
  {
   "cell_type": "markdown",
   "metadata": {},
   "source": [
    "# **Train/Dev/Test**"
   ]
  },
  {
   "cell_type": "markdown",
   "metadata": {},
   "source": [
    "## **Training**"
   ]
  },
  {
   "cell_type": "code",
   "execution_count": 19,
   "metadata": {},
   "outputs": [],
   "source": [
    "def train(tr_set, dv_set, model, config, device):\n",
    "    ''' DNN training '''\n",
    "\n",
    "    n_epochs = config['n_epochs']  # Maximum number of epochs\n",
    "\n",
    "    # Setup optimizer\n",
    "    optimizer = getattr(torch.optim, config['optimizer'])(\n",
    "        model.parameters(), **config['optim_hparas'])\n",
    "\n",
    "    min_mse = 1000.\n",
    "    loss_record = {'train': [], 'dev': []}      # for recording training loss\n",
    "    early_stop_cnt = 0\n",
    "    epoch = 0\n",
    "    while epoch < n_epochs:\n",
    "        model.train()                           # set model to training mode\n",
    "        # training_loss = 0\n",
    "        for x, y in tr_set:                     # iterate through the dataloader\n",
    "            optimizer.zero_grad()               # set gradient to zero\n",
    "            x, y = x.to(device), y.to(device)   # move data to device (cpu/cuda)\n",
    "            pred = model(x)                     # forward pass (compute output)\n",
    "            mse_loss = model.cal_loss(pred, y)  # compute loss\n",
    "            mse_loss.backward()                 # compute gradient (backpropagation)\n",
    "            optimizer.step()                    # update model with optimizer\n",
    "            loss_record['train'].append(mse_loss.detach().cpu().item())\n",
    "        #     training_loss += mse_loss.detach().cpu().item()\n",
    "        # loss_record['train'].append(training_loss / len(tr_set))\n",
    "\n",
    "        # After each epoch, test your model on the validation (development) set.\n",
    "        dev_mse = dev(dv_set, model, device)\n",
    "        if dev_mse < min_mse:\n",
    "            # Save model if your model improved\n",
    "            min_mse = dev_mse\n",
    "            print('Saving model (epoch = {:4d}, training loss = {:.4f}, val loss = {:.4f})'\n",
    "                .format(epoch + 1, mse_loss, min_mse))\n",
    "            torch.save(model.state_dict(), config['save_path'])  # Save model to specified path\n",
    "            early_stop_cnt = 0\n",
    "        else:\n",
    "            early_stop_cnt += 1\n",
    "\n",
    "        epoch += 1\n",
    "        loss_record['dev'].append(dev_mse)\n",
    "        if early_stop_cnt > config['early_stop']:\n",
    "            # Stop training if your model stops improving for \"config['early_stop']\" epochs.\n",
    "            break\n",
    "\n",
    "    print('Finished training after {} epochs'.format(epoch))\n",
    "    return min_mse, loss_record"
   ]
  },
  {
   "cell_type": "markdown",
   "metadata": {},
   "source": [
    "## **Validation**"
   ]
  },
  {
   "cell_type": "code",
   "execution_count": 20,
   "metadata": {},
   "outputs": [],
   "source": [
    "def dev(dv_set, model, device):\n",
    "    model.eval()                                # set model to evalutation mode\n",
    "    total_loss = 0\n",
    "    for x, y in dv_set:                         # iterate through the dataloader\n",
    "        x, y = x.to(device), y.to(device)       # move data to device (cpu/cuda)\n",
    "        with torch.no_grad():                   # disable gradient calculation\n",
    "            pred = model(x)                     # forward pass (compute output)\n",
    "            mse_loss = model.cal_loss(pred, y)  # compute loss\n",
    "        total_loss += mse_loss.detach().cpu().item() * len(x)  # accumulate loss\n",
    "    total_loss = total_loss / len(dv_set.dataset)              # compute averaged loss\n",
    "\n",
    "    return total_loss"
   ]
  },
  {
   "cell_type": "markdown",
   "metadata": {},
   "source": [
    "## **Testing**"
   ]
  },
  {
   "cell_type": "code",
   "execution_count": 21,
   "metadata": {},
   "outputs": [],
   "source": [
    "def test(tt_set, model, device):\n",
    "    model.eval()                                # set model to evalutation mode\n",
    "    preds = []\n",
    "    for x in tt_set:                            # iterate through the dataloader\n",
    "        x = x.to(device)                        # move data to device (cpu/cuda)\n",
    "        with torch.no_grad():                   # disable gradient calculation\n",
    "            pred = model(x)                     # forward pass (compute output)\n",
    "            preds.append(pred.detach().cpu())   # collect prediction\n",
    "    preds = torch.cat(preds, dim=0).numpy()     # concatenate all predictions and convert to a numpy array\n",
    "    return preds"
   ]
  },
  {
   "cell_type": "markdown",
   "metadata": {},
   "source": [
    "# **Setup Hyper-parameters**\n",
    "\n",
    "`config` contains hyper-parameters for training and the path to save your model."
   ]
  },
  {
   "cell_type": "code",
   "execution_count": 22,
   "metadata": {},
   "outputs": [],
   "source": [
    "device = get_device()                 # get the current available device ('cpu' or 'cuda')\n",
    "os.makedirs('models', exist_ok=True)  # The trained model will be saved to ./models/\n",
    "\n",
    "# TODO: How to tune these hyper-parameters to improve your model's performance?\n",
    "config = {\n",
    "    'topk': 20,\n",
    "    'n_epochs': 10000,              # maximum number of epochs\n",
    "    'batch_size': 32,               # mini-batch size for dataloader\n",
    "    'optimizer': 'Adam',            # optimization algorithm (optimizer in torch.optim)\n",
    "    # 'optim_hparas': {                # hyper-parameters for the optimizer (depends on which optimizer you are using)\n",
    "    #     'lr': 0.0001,                # learning rate of SGD\n",
    "    #     'momentum': 0.9              # momentum for SGD\n",
    "    # },\n",
    "    'optim_hparas': {\n",
    "        'lr': 0.0005,\n",
    "        'weight_decay': 0\n",
    "    },\n",
    "    'early_stop': 500,               # early stopping epochs (the number epochs since your model's last improvement)\n",
    "    'l1_strength': 0,\n",
    "    'l2_strength': 0.001,\n",
    "    'save_path': 'models/model.pth'  # your model will be saved here\n",
    "}\n",
    "good_features = select_features(topk=config['topk'])"
   ]
  },
  {
   "cell_type": "markdown",
   "metadata": {},
   "source": [
    "# **Load data and model**"
   ]
  },
  {
   "cell_type": "code",
   "execution_count": 23,
   "metadata": {},
   "outputs": [
    {
     "name": "stdout",
     "output_type": "stream",
     "text": [
      "Finished reading the train set of COVID19 Dataset (2430 samples found, each dim = 20)\n",
      "Finished reading the dev set of COVID19 Dataset (270 samples found, each dim = 20)\n",
      "Finished reading the test set of COVID19 Dataset (893 samples found, each dim = 20)\n"
     ]
    }
   ],
   "source": [
    "tr_set = prep_dataloader(tr_path, 'train', config['batch_size'], selected_features=good_features)\n",
    "dv_set = prep_dataloader(tr_path, 'dev', config['batch_size'], selected_features=good_features)\n",
    "tt_set = prep_dataloader(tt_path, 'test', config['batch_size'], selected_features=good_features)"
   ]
  },
  {
   "cell_type": "code",
   "execution_count": 24,
   "metadata": {},
   "outputs": [],
   "source": [
    "model = NeuralNet(tr_set.dataset.dim, l1_strength=config['l1_strength'], l2_strength=config['l2_strength']).to(device)  # Construct model and move to device"
   ]
  },
  {
   "cell_type": "markdown",
   "metadata": {},
   "source": [
    "# **Start Training!**"
   ]
  },
  {
   "cell_type": "code",
   "execution_count": 25,
   "metadata": {},
   "outputs": [
    {
     "name": "stdout",
     "output_type": "stream",
     "text": [
      "Saving model (epoch =    1, training loss = 296.5332, val loss = 293.7569)\n",
      "Saving model (epoch =    2, training loss = 332.3075, val loss = 249.8381)\n",
      "Saving model (epoch =    3, training loss = 154.1382, val loss = 196.5739)\n",
      "Saving model (epoch =    4, training loss = 146.0253, val loss = 144.8112)\n",
      "Saving model (epoch =    5, training loss = 124.4615, val loss = 105.3652)\n",
      "Saving model (epoch =    6, training loss = 86.2668, val loss = 86.1598)\n",
      "Saving model (epoch =    7, training loss = 62.0976, val loss = 78.6974)\n",
      "Saving model (epoch =    8, training loss = 95.3864, val loss = 73.9303)\n",
      "Saving model (epoch =    9, training loss = 45.2552, val loss = 68.8013)\n",
      "Saving model (epoch =   10, training loss = 60.9916, val loss = 63.2059)\n",
      "Saving model (epoch =   11, training loss = 51.4191, val loss = 57.1201)\n",
      "Saving model (epoch =   12, training loss = 39.4297, val loss = 51.2218)\n",
      "Saving model (epoch =   13, training loss = 48.3212, val loss = 45.4724)\n",
      "Saving model (epoch =   14, training loss = 53.0558, val loss = 40.1823)\n",
      "Saving model (epoch =   15, training loss = 28.9032, val loss = 35.3655)\n",
      "Saving model (epoch =   16, training loss = 34.1474, val loss = 31.2542)\n",
      "Saving model (epoch =   17, training loss = 27.0991, val loss = 27.5863)\n",
      "Saving model (epoch =   18, training loss = 34.9856, val loss = 24.3819)\n",
      "Saving model (epoch =   19, training loss = 9.7507, val loss = 21.5936)\n",
      "Saving model (epoch =   20, training loss = 21.7049, val loss = 19.1245)\n",
      "Saving model (epoch =   21, training loss = 19.8713, val loss = 16.9961)\n",
      "Saving model (epoch =   22, training loss = 11.5047, val loss = 15.0255)\n",
      "Saving model (epoch =   23, training loss = 14.7915, val loss = 13.2478)\n",
      "Saving model (epoch =   24, training loss = 13.5401, val loss = 11.6159)\n",
      "Saving model (epoch =   25, training loss = 12.7490, val loss = 10.1447)\n",
      "Saving model (epoch =   26, training loss = 7.2986, val loss = 8.8879)\n",
      "Saving model (epoch =   27, training loss = 9.1253, val loss = 7.6926)\n",
      "Saving model (epoch =   28, training loss = 5.0623, val loss = 6.7536)\n",
      "Saving model (epoch =   29, training loss = 10.1959, val loss = 5.9307)\n",
      "Saving model (epoch =   30, training loss = 2.5701, val loss = 5.2060)\n",
      "Saving model (epoch =   31, training loss = 4.0029, val loss = 4.6373)\n",
      "Saving model (epoch =   32, training loss = 2.9886, val loss = 4.1530)\n",
      "Saving model (epoch =   33, training loss = 4.9671, val loss = 3.7297)\n",
      "Saving model (epoch =   34, training loss = 3.0287, val loss = 3.3604)\n",
      "Saving model (epoch =   35, training loss = 2.4867, val loss = 3.0729)\n",
      "Saving model (epoch =   36, training loss = 2.7858, val loss = 2.8357)\n",
      "Saving model (epoch =   37, training loss = 2.3263, val loss = 2.6767)\n",
      "Saving model (epoch =   38, training loss = 2.5996, val loss = 2.5040)\n",
      "Saving model (epoch =   39, training loss = 2.7467, val loss = 2.3776)\n",
      "Saving model (epoch =   40, training loss = 1.6016, val loss = 2.2658)\n",
      "Saving model (epoch =   41, training loss = 2.1875, val loss = 2.1671)\n",
      "Saving model (epoch =   42, training loss = 1.6441, val loss = 2.0875)\n",
      "Saving model (epoch =   43, training loss = 0.9579, val loss = 2.0566)\n",
      "Saving model (epoch =   44, training loss = 2.4757, val loss = 1.9391)\n",
      "Saving model (epoch =   45, training loss = 2.5115, val loss = 1.8840)\n",
      "Saving model (epoch =   46, training loss = 1.5975, val loss = 1.8273)\n",
      "Saving model (epoch =   47, training loss = 1.3412, val loss = 1.7609)\n",
      "Saving model (epoch =   48, training loss = 1.1257, val loss = 1.7165)\n",
      "Saving model (epoch =   49, training loss = 2.1622, val loss = 1.6675)\n",
      "Saving model (epoch =   50, training loss = 1.5202, val loss = 1.6284)\n",
      "Saving model (epoch =   52, training loss = 1.9021, val loss = 1.5336)\n",
      "Saving model (epoch =   53, training loss = 1.6727, val loss = 1.5047)\n",
      "Saving model (epoch =   54, training loss = 0.6535, val loss = 1.4625)\n",
      "Saving model (epoch =   55, training loss = 1.8659, val loss = 1.4314)\n",
      "Saving model (epoch =   57, training loss = 1.4594, val loss = 1.3696)\n",
      "Saving model (epoch =   58, training loss = 1.8098, val loss = 1.3614)\n",
      "Saving model (epoch =   59, training loss = 1.2944, val loss = 1.3205)\n",
      "Saving model (epoch =   61, training loss = 1.4468, val loss = 1.3016)\n",
      "Saving model (epoch =   62, training loss = 0.7771, val loss = 1.2666)\n",
      "Saving model (epoch =   63, training loss = 1.5688, val loss = 1.2399)\n",
      "Saving model (epoch =   64, training loss = 1.2022, val loss = 1.2240)\n",
      "Saving model (epoch =   65, training loss = 2.0240, val loss = 1.1970)\n",
      "Saving model (epoch =   66, training loss = 0.9529, val loss = 1.1766)\n",
      "Saving model (epoch =   68, training loss = 1.5103, val loss = 1.1569)\n",
      "Saving model (epoch =   70, training loss = 1.2705, val loss = 1.1342)\n",
      "Saving model (epoch =   71, training loss = 1.3421, val loss = 1.0900)\n",
      "Saving model (epoch =   72, training loss = 0.4996, val loss = 1.0788)\n",
      "Saving model (epoch =   73, training loss = 1.2192, val loss = 1.0662)\n",
      "Saving model (epoch =   74, training loss = 1.9608, val loss = 1.0564)\n",
      "Saving model (epoch =   75, training loss = 1.1131, val loss = 1.0445)\n",
      "Saving model (epoch =   76, training loss = 0.8586, val loss = 1.0206)\n",
      "Saving model (epoch =   80, training loss = 1.0902, val loss = 0.9971)\n",
      "Saving model (epoch =   83, training loss = 1.0117, val loss = 0.9968)\n",
      "Saving model (epoch =   84, training loss = 0.9545, val loss = 0.9883)\n",
      "Saving model (epoch =   85, training loss = 0.5836, val loss = 0.9787)\n",
      "Saving model (epoch =   89, training loss = 0.7665, val loss = 0.9560)\n",
      "Saving model (epoch =   90, training loss = 1.0392, val loss = 0.9467)\n",
      "Saving model (epoch =   93, training loss = 0.3641, val loss = 0.9286)\n",
      "Saving model (epoch =   95, training loss = 1.4314, val loss = 0.9244)\n",
      "Saving model (epoch =  100, training loss = 0.5863, val loss = 0.9150)\n",
      "Saving model (epoch =  108, training loss = 0.6059, val loss = 0.9022)\n",
      "Saving model (epoch =  121, training loss = 0.4879, val loss = 0.8990)\n",
      "Saving model (epoch =  124, training loss = 0.8814, val loss = 0.8933)\n",
      "Saving model (epoch =  125, training loss = 1.1664, val loss = 0.8919)\n",
      "Saving model (epoch =  127, training loss = 0.8575, val loss = 0.8917)\n",
      "Saving model (epoch =  130, training loss = 0.9473, val loss = 0.8861)\n",
      "Saving model (epoch =  143, training loss = 1.0719, val loss = 0.8852)\n",
      "Saving model (epoch =  147, training loss = 1.2259, val loss = 0.8838)\n",
      "Saving model (epoch =  153, training loss = 1.4183, val loss = 0.8757)\n",
      "Saving model (epoch =  155, training loss = 0.8549, val loss = 0.8736)\n",
      "Saving model (epoch =  169, training loss = 0.9313, val loss = 0.8663)\n",
      "Saving model (epoch =  172, training loss = 0.6287, val loss = 0.8639)\n",
      "Saving model (epoch =  180, training loss = 0.4793, val loss = 0.8623)\n",
      "Saving model (epoch =  217, training loss = 1.4258, val loss = 0.8604)\n",
      "Saving model (epoch =  341, training loss = 0.7048, val loss = 0.8592)\n",
      "Saving model (epoch =  467, training loss = 0.6423, val loss = 0.8584)\n",
      "Saving model (epoch =  509, training loss = 0.9553, val loss = 0.8532)\n",
      "Finished training after 1010 epochs\n"
     ]
    }
   ],
   "source": [
    "model_loss, model_loss_record = train(tr_set, dv_set, model, config, device)"
   ]
  },
  {
   "cell_type": "code",
   "execution_count": 26,
   "metadata": {},
   "outputs": [
    {
     "data": {
      "image/png": "[encoded data removed]",
      "text/plain": [
       "<Figure size 600x400 with 1 Axes>"
      ]
     },
     "metadata": {},
     "output_type": "display_data"
    }
   ],
   "source": [
    "plot_learning_curve(model_loss_record, title='deep model')"
   ]
  },
  {
   "cell_type": "code",
   "execution_count": 27,
   "metadata": {},
   "outputs": [
    {
     "data": {
      "image/png": "[encoded data removed]",
      "text/plain": [
       "<Figure size 500x500 with 1 Axes>"
      ]
     },
     "metadata": {},
     "output_type": "display_data"
    }
   ],
   "source": [
    "del model\n",
    "model = NeuralNet(tr_set.dataset.dim).to(device)\n",
    "ckpt = torch.load(config['save_path'], map_location='cpu')  # Load your best model\n",
    "model.load_state_dict(ckpt)\n",
    "plot_pred(dv_set, model, device)  # Show prediction on the validation set"
   ]
  },
  {
   "cell_type": "markdown",
   "metadata": {},
   "source": [
    "# **Testing**\n",
    "The predictions of your model on testing set will be stored at `pred.csv`."
   ]
  },
  {
   "cell_type": "code",
   "execution_count": 28,
   "metadata": {},
   "outputs": [
    {
     "name": "stdout",
     "output_type": "stream",
     "text": [
      "Saving results to pred.csv\n"
     ]
    }
   ],
   "source": [
    "def save_pred(preds, file):\n",
    "    ''' Save predictions to specified file '''\n",
    "    print('Saving results to {}'.format(file))\n",
    "    with open(file, 'w') as fp:\n",
    "        writer = csv.writer(fp)\n",
    "        writer.writerow(['id', 'tested_positive'])\n",
    "        for i, p in enumerate(preds):\n",
    "            writer.writerow([i, p])\n",
    "\n",
    "preds = test(tt_set, model, device)  # predict COVID-19 cases with your model\n",
    "save_pred(preds, 'pred.csv')         # save prediction file to pred.csv"
   ]
  },
  {
   "cell_type": "markdown",
   "metadata": {},
   "source": [
    "# **Hints**\n",
    "\n",
    "## **Simple Baseline**\n",
    "* Run sample code\n",
    "* 2.04826\n",
    "\n",
    "## **Medium Baseline**\n",
    "* Feature selection: 40 states + 2 `tested_positive` (`TODO` in dataset)\n",
    "* 1.36937\n",
    "\n",
    "## **Strong Baseline**\n",
    "* Feature selection (what other features are useful?)\n",
    "* DNN architecture (layers? dimension? activation function?)\n",
    "* Training (mini-batch? optimizer? learning rate?)\n",
    "* L2 regularization\n",
    "* There are some mistakes in the sample code, can you find them?\n",
    "* 0.89266\n"
   ]
  },
  {
   "cell_type": "markdown",
   "metadata": {},
   "source": [
    "# **Reference**\n",
    "This code is completely written by Heng-Jui Chang @ NTUEE.  \n",
    "Copying or reusing this code is required to specify the original author. \n",
    "\n",
    "E.g.  \n",
    "Source: Heng-Jui Chang @ NTUEE (https://github.com/ga642381/ML2021-Spring/blob/main/HW01/HW01.ipynb)\n"
   ]
  }
 ],
 "metadata": {
  "kernelspec": {
   "display_name": ".venv",
   "language": "python",
   "name": "python3"
  },
  "language_info": {
   "codemirror_mode": {
    "name": "ipython",
    "version": 3
   },
   "file_extension": ".py",
   "mimetype": "text/x-python",
   "name": "python",
   "nbconvert_exporter": "python",
   "pygments_lexer": "ipython3",
   "version": "3.10.9"
  }
 },
 "nbformat": 4,
 "nbformat_minor": 2
}
